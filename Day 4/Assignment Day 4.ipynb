{
 "cells": [
  {
   "cell_type": "markdown",
   "metadata": {},
   "source": [
    "# Assignment Day 4"
   ]
  },
  {
   "cell_type": "markdown",
   "metadata": {},
   "source": [
    "###  Question 1 - Write down a program in Python for Opening a File and Writing \" I Love LetsUpgrade\" And close\n",
    "###                        it, and read it back again, and then append some data to it and close it."
   ]
  },
  {
   "cell_type": "code",
   "execution_count": 1,
   "metadata": {},
   "outputs": [
    {
     "name": "stdout",
     "output_type": "stream",
     "text": [
      "I Love LetsUpgrade.\n",
      "I Love LetsUpgrade. Thats the reason I joined it.\n"
     ]
    }
   ],
   "source": [
    "#Opening a File in write mode & writing it\n",
    "file = open(\"Myfile.txt\",'w')\n",
    "file.write(\"I Love LetsUpgrade.\")\n",
    "file.close()\n",
    "\n",
    "#Again opening the file  in read & append mode\n",
    "file= open(\"Myfile.txt\",'r+') \n",
    "print(file.read()) #read the file & print the content\n",
    "\n",
    "file.write(\" Thats the reason I joined it.\") #appending the file\n",
    "file.close()\n",
    "\n",
    "#opening the file in read mode\n",
    "file= open(\"Myfile.txt\",'r') \n",
    "print(file.read()) # read the updated file content and print the content\n",
    "file.close()"
   ]
  },
  {
   "cell_type": "markdown",
   "metadata": {},
   "source": [
    "### Question 2 - Write a function which can return a Factorial of any numbers as INT, given in the argument."
   ]
  },
  {
   "cell_type": "code",
   "execution_count": 2,
   "metadata": {},
   "outputs": [],
   "source": [
    "def factorial(num):\n",
    "    factor=1\n",
    "    if num < 0:\n",
    "       print(\"Sorry, factorial does not exist for negative numbers\")\n",
    "    elif num == 0:\n",
    "       print(\"The factorial of 0 is 1\")\n",
    "    else:\n",
    "       for i in range(1,num + 1):\n",
    "           factor = factor*i\n",
    "       print(\"The factorial of\",num,\"is\",factor)"
   ]
  },
  {
   "cell_type": "code",
   "execution_count": 3,
   "metadata": {},
   "outputs": [
    {
     "name": "stdout",
     "output_type": "stream",
     "text": [
      "The factorial of 5 is 120\n"
     ]
    }
   ],
   "source": [
    "factorial(5)"
   ]
  }
 ],
 "metadata": {
  "kernelspec": {
   "display_name": "Python 3",
   "language": "python",
   "name": "python3"
  },
  "language_info": {
   "codemirror_mode": {
    "name": "ipython",
    "version": 3
   },
   "file_extension": ".py",
   "mimetype": "text/x-python",
   "name": "python",
   "nbconvert_exporter": "python",
   "pygments_lexer": "ipython3",
   "version": "3.8.3"
  }
 },
 "nbformat": 4,
 "nbformat_minor": 4
}
