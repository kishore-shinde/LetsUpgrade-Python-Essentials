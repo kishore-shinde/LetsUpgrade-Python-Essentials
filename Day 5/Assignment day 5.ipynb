{
 "cells": [
  {
   "cell_type": "markdown",
   "metadata": {},
   "source": [
    "# Assignment Day 5"
   ]
  },
  {
   "cell_type": "markdown",
   "metadata": {},
   "source": [
    "### Develop a cryptography app in python"
   ]
  },
  {
   "cell_type": "code",
   "execution_count": 1,
   "metadata": {},
   "outputs": [
    {
     "name": "stdout",
     "output_type": "stream",
     "text": [
      "Requirement already satisfied: cryptography in c:\\programdata\\anaconda3\\lib\\site-packages (2.9.2)Note: you may need to restart the kernel to use updated packages.\n",
      "Requirement already satisfied: cffi!=1.11.3,>=1.8 in c:\\programdata\\anaconda3\\lib\\site-packages (from cryptography) (1.14.0)\n",
      "Requirement already satisfied: six>=1.4.1 in c:\\programdata\\anaconda3\\lib\\site-packages (from cryptography) (1.15.0)\n",
      "Requirement already satisfied: pycparser in c:\\programdata\\anaconda3\\lib\\site-packages (from cffi!=1.11.3,>=1.8->cryptography) (2.20)\n",
      "\n"
     ]
    }
   ],
   "source": [
    "pip install cryptography"
   ]
  },
  {
   "cell_type": "code",
   "execution_count": 4,
   "metadata": {},
   "outputs": [],
   "source": [
    "from cryptography.fernet import Fernet # import Fernet Library\n",
    "\n",
    "# Generate a Key for Encryption & Decryption & write to file\n",
    "def generate_key():\n",
    "    key = Fernet.generate_key() # to generate a key\n",
    "    secret = open(\"secret.key\",\"wb\")\n",
    "    secret.write(key)\n",
    "    secret.close\n",
    "\n",
    "\n",
    "# Load the key\n",
    "def load_key():\n",
    "    key = open(\"secret.key\",\"rb\")\n",
    "    return key.read()\n",
    "\n",
    "#Get the input from user that needs to be encrypted\n",
    "def ContentFromUser():\n",
    "    return input(\"Enter the content that needs to be encrypted :\")\n",
    "\n",
    "# encrypt the content from the user\n",
    "def encryptMessage(message):\n",
    "    generate_key()\n",
    "    key = load_key()\n",
    "    encoded_message = message.encode()\n",
    "    f= Fernet(key) # Initialize class \n",
    "    encrypted_message = f.encrypt(encoded_message)\n",
    "    print(\"Encrypted Message: \\n\", encrypted_message)  \n",
    "\n"
   ]
  },
  {
   "cell_type": "code",
   "execution_count": 5,
   "metadata": {},
   "outputs": [
    {
     "name": "stdout",
     "output_type": "stream",
     "text": [
      "Enter the content that needs to be encrypted :ATM PIN 0007\n",
      "Encrypted Message: \n",
      " b'gAAAAABf2llVWv3Y0vy1ALlth5CGmG5McvishXHJDKHGIOolF-oq48gbg563pUPknLobD38-DU_GR8LagxyIMf9fFS32jCMlTw=='\n"
     ]
    }
   ],
   "source": [
    " encryptMessage(ContentFromUser())"
   ]
  },
  {
   "cell_type": "code",
   "execution_count": 6,
   "metadata": {},
   "outputs": [],
   "source": [
    "# Decrypting the message\n",
    "\n",
    "def load_key():\n",
    "    key = open(\"secret.key\",\"rb\") # get back the secret key\n",
    "    return key.read()\n",
    "\n",
    "def decrypt_message(encrypted_message):\n",
    "    key = load_key()\n",
    "    f = Fernet(key)\n",
    "    \n",
    "    decrypted_message = f.decrypt(encrypted_message)\n",
    "    \n",
    "    print(\"Message Decrypted: \\n\",decrypted_message.decode())\n"
   ]
  },
  {
   "cell_type": "code",
   "execution_count": 7,
   "metadata": {},
   "outputs": [
    {
     "name": "stdout",
     "output_type": "stream",
     "text": [
      "Message Decrypted: \n",
      " ATM PIN 0007\n"
     ]
    }
   ],
   "source": [
    "decrypt_message(b'gAAAAABf2llVWv3Y0vy1ALlth5CGmG5McvishXHJDKHGIOolF-oq48gbg563pUPknLobD38-DU_GR8LagxyIMf9fFS32jCMlTw==')"
   ]
  }
 ],
 "metadata": {
  "kernelspec": {
   "display_name": "Python 3",
   "language": "python",
   "name": "python3"
  },
  "language_info": {
   "codemirror_mode": {
    "name": "ipython",
    "version": 3
   },
   "file_extension": ".py",
   "mimetype": "text/x-python",
   "name": "python",
   "nbconvert_exporter": "python",
   "pygments_lexer": "ipython3",
   "version": "3.8.3"
  }
 },
 "nbformat": 4,
 "nbformat_minor": 4
}
