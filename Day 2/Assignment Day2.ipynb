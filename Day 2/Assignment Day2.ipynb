{
 "cells": [
  {
   "cell_type": "markdown",
   "metadata": {},
   "source": [
    "# Assignment Day 2 "
   ]
  },
  {
   "cell_type": "markdown",
   "metadata": {},
   "source": [
    "### Question 1 : Try 5 Different functions of the String in Python"
   ]
  },
  {
   "cell_type": "code",
   "execution_count": 1,
   "metadata": {},
   "outputs": [
    {
     "data": {
      "text/plain": [
       "'Letsupgrade'"
      ]
     },
     "execution_count": 1,
     "metadata": {},
     "output_type": "execute_result"
    }
   ],
   "source": [
    "# Function 1 : capitalize  - returns a copy of the original string and converts the first character of the string to a capital\n",
    "                            # while making all other characters in the string lowercase letters. \n",
    "name = \"LETSUPGRADE\"\n",
    "name.capitalize()"
   ]
  },
  {
   "cell_type": "code",
   "execution_count": 2,
   "metadata": {},
   "outputs": [
    {
     "data": {
      "text/plain": [
       "6"
      ]
     },
     "execution_count": 2,
     "metadata": {},
     "output_type": "execute_result"
    }
   ],
   "source": [
    "#Function 2 : find - will return the position of the searched character in the string\n",
    "name = \"LetsUpgrade\"\n",
    "name.find(\"g\")"
   ]
  },
  {
   "cell_type": "code",
   "execution_count": 3,
   "metadata": {},
   "outputs": [
    {
     "data": {
      "text/plain": [
       "'LetsUpGrade'"
      ]
     },
     "execution_count": 3,
     "metadata": {},
     "output_type": "execute_result"
    }
   ],
   "source": [
    "# Function 3 : replace - will search the first character in the string and replace it with the given character \n",
    "name.replace(\"g\",\"G\") "
   ]
  },
  {
   "cell_type": "code",
   "execution_count": 4,
   "metadata": {},
   "outputs": [
    {
     "data": {
      "text/plain": [
       "2"
      ]
     },
     "execution_count": 4,
     "metadata": {},
     "output_type": "execute_result"
    }
   ],
   "source": [
    "# Function 4 : count - will return the number of times a specified value occurs in a string\n",
    "str1 = \"I live in Mumbai, I love Mumbai\"\n",
    "str1.count(\"Mumbai\")"
   ]
  },
  {
   "cell_type": "code",
   "execution_count": 5,
   "metadata": {},
   "outputs": [
    {
     "data": {
      "text/plain": [
       "'I Live In Mumbai, I Love Mumbai'"
      ]
     },
     "execution_count": 5,
     "metadata": {},
     "output_type": "execute_result"
    }
   ],
   "source": [
    "# Function 5 : title - will return a string where the first charatcer in every word is Upper Case\n",
    "str1.title()"
   ]
  },
  {
   "cell_type": "markdown",
   "metadata": {},
   "source": [
    "### Question 2 : Try 5 Different functions of the List object in Python"
   ]
  },
  {
   "cell_type": "code",
   "execution_count": 6,
   "metadata": {},
   "outputs": [
    {
     "data": {
      "text/plain": [
       "['Mumbai', 'Nagpur', 'Nashik', 'Pune']"
      ]
     },
     "execution_count": 6,
     "metadata": {},
     "output_type": "execute_result"
    }
   ],
   "source": [
    "# Function 1 : sort - will return the list with alphabetical order\n",
    "lst = ['Mumbai','Pune','Nagpur','Nashik']\n",
    "lst.sort()\n",
    "lst"
   ]
  },
  {
   "cell_type": "code",
   "execution_count": 7,
   "metadata": {},
   "outputs": [
    {
     "data": {
      "text/plain": [
       "['Mumbai', 'Nagpur', 'Nashik']"
      ]
     },
     "execution_count": 7,
     "metadata": {},
     "output_type": "execute_result"
    }
   ],
   "source": [
    "# Function 2 : pop - will remove the element at the specified position.\n",
    "lst = ['Mumbai','Pune','Nagpur','Nashik']\n",
    "lst.pop(1)\n",
    "lst"
   ]
  },
  {
   "cell_type": "code",
   "execution_count": 8,
   "metadata": {},
   "outputs": [
    {
     "data": {
      "text/plain": [
       "['Nashik', 'Nagpur', 'Pune', 'Mumbai']"
      ]
     },
     "execution_count": 8,
     "metadata": {},
     "output_type": "execute_result"
    }
   ],
   "source": [
    "# Function 3 : reverse - will reverse the order of the list\n",
    "lst = ['Mumbai','Pune','Nagpur','Nashik']\n",
    "lst.reverse()\n",
    "lst"
   ]
  },
  {
   "cell_type": "code",
   "execution_count": 9,
   "metadata": {},
   "outputs": [
    {
     "data": {
      "text/plain": [
       "['Mumbai', 'Nagpur', 'Nashik', 'Pune']"
      ]
     },
     "execution_count": 9,
     "metadata": {},
     "output_type": "execute_result"
    }
   ],
   "source": [
    "# Function 4 : remove - will remove the first occurence of the element with the specified value\n",
    "lst = ['Mumbai','Pune','Nagpur','Nashik','Pune']\n",
    "lst.remove(\"Pune\")\n",
    "lst"
   ]
  },
  {
   "cell_type": "code",
   "execution_count": 10,
   "metadata": {},
   "outputs": [
    {
     "data": {
      "text/plain": [
       "2"
      ]
     },
     "execution_count": 10,
     "metadata": {},
     "output_type": "execute_result"
    }
   ],
   "source": [
    "# Function 5 : count - will return the number of elements with the specified value\n",
    "lst = ['Mumbai','Pune','Nagpur','Nashik','Pune']\n",
    "lst.count(\"Pune\")"
   ]
  },
  {
   "cell_type": "markdown",
   "metadata": {},
   "source": [
    "### Question 3 : Experiment with at least 5 default functions of Dictionary"
   ]
  },
  {
   "cell_type": "code",
   "execution_count": 11,
   "metadata": {},
   "outputs": [
    {
     "data": {
      "text/plain": [
       "dict_items([('City', 'Mumbai'), ('Population', 20411000), ('Area', '600km^2')])"
      ]
     },
     "execution_count": 11,
     "metadata": {},
     "output_type": "execute_result"
    }
   ],
   "source": [
    "# Function 1 : items - will return all the dictionary items\n",
    "dit={\"City\":\"Mumbai\",\"Population\":20411000,\"Area\":\"600km^2\"}\n",
    "dit.items()"
   ]
  },
  {
   "cell_type": "code",
   "execution_count": 12,
   "metadata": {},
   "outputs": [
    {
     "data": {
      "text/plain": [
       "dict_keys(['City', 'Population', 'Area'])"
      ]
     },
     "execution_count": 12,
     "metadata": {},
     "output_type": "execute_result"
    }
   ],
   "source": [
    "# Function 2 : keys - will return only the keys of the dictionary\n",
    "dit={\"City\":\"Mumbai\",\"Population\":20411000,\"Area\":\"600km^2\"}\n",
    "dit.keys()"
   ]
  },
  {
   "cell_type": "code",
   "execution_count": 13,
   "metadata": {},
   "outputs": [
    {
     "data": {
      "text/plain": [
       "dict_values(['Mumbai', 20411000, '600km^2'])"
      ]
     },
     "execution_count": 13,
     "metadata": {},
     "output_type": "execute_result"
    }
   ],
   "source": [
    "# Function 3 : values - will return only the key values of the dictionary\n",
    "dit={\"City\":\"Mumbai\",\"Population\":20411000,\"Area\":\"600km^2\"}\n",
    "dit.values()"
   ]
  },
  {
   "cell_type": "code",
   "execution_count": 14,
   "metadata": {},
   "outputs": [
    {
     "data": {
      "text/plain": [
       "{'City': 'Mumbai',\n",
       " 'Population': 20411000,\n",
       " 'Area': '600km^2',\n",
       " 'Time Zone': 'UTC+5:30(IST)'}"
      ]
     },
     "execution_count": 14,
     "metadata": {},
     "output_type": "execute_result"
    }
   ],
   "source": [
    "# Function 4 : update - will Update the dictionary with the specified key-value pairs\n",
    "dit={\"City\":\"Mumbai\",\"Population\":20411000,\"Area\":\"600km^2\"}\n",
    "dit.update({\"Time Zone\":\"UTC+5:30(IST)\"})\n",
    "dit"
   ]
  },
  {
   "cell_type": "code",
   "execution_count": 15,
   "metadata": {},
   "outputs": [
    {
     "name": "stdout",
     "output_type": "stream",
     "text": [
      "{'City': 'Mumbai', 'Area': '600km^2'}\n"
     ]
    }
   ],
   "source": [
    "# Function 5 : pop - will remove the specified item from the dictionary\n",
    "dit={\"City\":\"Mumbai\",\"Population\":20411000,\"Area\":\"600km^2\"}\n",
    "dit.pop(\"Population\")\n",
    "print(dit)"
   ]
  }
 ],
 "metadata": {
  "kernelspec": {
   "display_name": "Python 3",
   "language": "python",
   "name": "python3"
  },
  "language_info": {
   "codemirror_mode": {
    "name": "ipython",
    "version": 3
   },
   "file_extension": ".py",
   "mimetype": "text/x-python",
   "name": "python",
   "nbconvert_exporter": "python",
   "pygments_lexer": "ipython3",
   "version": "3.8.3"
  }
 },
 "nbformat": 4,
 "nbformat_minor": 4
}
